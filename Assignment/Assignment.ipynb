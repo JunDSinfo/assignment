{
 "cells": [
  {
   "cell_type": "markdown",
   "id": "f5cc9792-f501-4ebe-a18e-a7c6e9fc3d98",
   "metadata": {},
   "source": [
    "### Part 1"
   ]
  },
  {
   "cell_type": "code",
   "execution_count": 1,
   "id": "1790c277-4afd-476b-a177-edb65591a97f",
   "metadata": {},
   "outputs": [],
   "source": [
    "class Cat:\n",
    "    def __init__(self):\n",
    "        self.name = None\n",
    "        self.age = None\n",
    "        self.favoriteFood = None\n",
    "\n",
    "    def getName(self):\n",
    "        return self.name\n",
    "\n",
    "    def getAge(self):\n",
    "        return self.age\n",
    "\n",
    "    def getFavoriteFood(self):\n",
    "        return self.favoriteFood\n",
    "\n",
    "    def setName(self, newName):\n",
    "        self.name = newName\n",
    "\n",
    "    def setAge(self, newAge):\n",
    "        self.age = newAge\n",
    "\n",
    "    def setFavoriteFood(self, newFavoriteFood):\n",
    "        self.favoriteFood = newFavoriteFood"
   ]
  },
  {
   "cell_type": "code",
   "execution_count": 2,
   "id": "7b3ae8ff-dbbb-4f1f-a9cc-2577da7ddbcc",
   "metadata": {},
   "outputs": [],
   "source": [
    "class Data:\n",
    "    def __init__(self, database):\n",
    "        print(\"Connecting to database\")\n",
    "        self.pets = []\n",
    "\n",
    "    def beginTran(self):\n",
    "        print(\"Beginning a transaction\")\n",
    "\n",
    "    def commit(self):\n",
    "        print(\"Committing transaction\")\n",
    "        \n",
    "\n",
    "    def rollback(self):\n",
    "        print(\"Rolling back transaction\")\n",
    "\n",
    "    def insert(self, table, object):\n",
    "        print(f\"Inserting  {object.getName()}  into table {table}\")\n",
    "        self.pets.append(object)"
   ]
  },
  {
   "cell_type": "code",
   "execution_count": 3,
   "id": "d60e2bd6-3865-465a-8b96-b168d49fd7e6",
   "metadata": {},
   "outputs": [
    {
     "name": "stdout",
     "output_type": "stream",
     "text": [
      "Name is currently None\n",
      "Name has been changed to Garfield\n",
      "Connecting to database\n",
      "Inserting  Garfield  into table Cat\n"
     ]
    }
   ],
   "source": [
    "cat = Cat()\n",
    "print(f\"Name is currently {cat.getName()}\")\n",
    "cat.setName(\"Garfield\")\n",
    "print(f\"Name has been changed to {cat.getName()}\")\n",
    "data = Data(\"database\")\n",
    "data.insert(\"Cat\", cat)"
   ]
  },
  {
   "cell_type": "code",
   "execution_count": null,
   "id": "121633c8-6d96-4c6b-99e6-1a6bc8f89818",
   "metadata": {},
   "outputs": [],
   "source": []
  },
  {
   "cell_type": "code",
   "execution_count": null,
   "id": "fb112adc-a339-4782-ad5d-6135ecebfbd7",
   "metadata": {},
   "outputs": [],
   "source": []
  },
  {
   "cell_type": "markdown",
   "id": "57d4d397-bcc5-4fad-8830-ae34c3fa223d",
   "metadata": {},
   "source": [
    "## Part 2"
   ]
  },
  {
   "cell_type": "code",
   "execution_count": 4,
   "id": "f64bf49c-c995-4183-b136-aca52b23e063",
   "metadata": {},
   "outputs": [],
   "source": [
    "import random\n",
    "class Cat:\n",
    "    def __init__(self, name=None):\n",
    "        self.name = name\n",
    "        self.age = random.randint(5, 10)\n",
    "        self.favoriteFood = None\n",
    "        self.nameHistory = []\n",
    "\n",
    "    def getName(self):\n",
    "        return self.name\n",
    "\n",
    "    def getAge(self):\n",
    "        return self.age\n",
    "\n",
    "    def getFavoriteFood(self):\n",
    "        return self.favoriteFood\n",
    "\n",
    "    def setName(self, newName):\n",
    "        self.nameHistory.append(newName)\n",
    "        self.name = newName\n",
    "\n",
    "    def setAge(self, newAge):\n",
    "        self.age = newAge\n",
    "\n",
    "    def setFavoriteFood(self, newFavoriteFood):\n",
    "        self.favoriteFood = newFavoriteFood\n",
    "\n",
    "    def speak(self, message=\"Meow\"):\n",
    "        print(message)\n",
    "        self.age += 1\n",
    "        if self.age % 5 == 0:\n",
    "            print(\"Happy birthday! I am now\", self.age, \"years old.\")\n",
    "\n",
    "    def getNames(self):\n",
    "        return self.nameHistory\n",
    "\n",
    "    def getAverageNameLength(self):\n",
    "        nameLengths = [len(name) for name in self.nameHistory]\n",
    "        if len(nameLengths) > 0:\n",
    "            return sum(nameLengths) / len(nameLengths)\n",
    "        else:\n",
    "            return 0"
   ]
  },
  {
   "cell_type": "code",
   "execution_count": 5,
   "id": "99f3d824-33c7-4ddb-85a6-3a81e9725831",
   "metadata": {},
   "outputs": [
    {
     "name": "stdout",
     "output_type": "stream",
     "text": [
      "Name is currently None\n",
      "My current age 6\n",
      "Name has been changed to Garfield\n",
      "Connecting to database\n",
      "Inserting  Garfield  into table Cat\n",
      "Meow\n",
      "Meow\n",
      "Meow\n",
      "Meow\n",
      "Happy birthday! I am now 10 years old.\n",
      "Meow\n",
      "Meow\n",
      "Meow\n",
      "Meow\n",
      "Meow\n",
      "Happy birthday! I am now 15 years old.\n",
      "Meow\n",
      "Meow\n",
      "Meow\n",
      "Meow\n",
      "Meow\n",
      "Happy birthday! I am now 20 years old.\n",
      "Meow\n",
      "Meow\n",
      "Meow\n",
      "Meow\n",
      "Meow\n",
      "Happy birthday! I am now 25 years old.\n",
      "Meow\n",
      "['Garfield', '0', '1', '2', '3', '4']\n",
      "2.1666666666666665\n"
     ]
    }
   ],
   "source": [
    "cat = Cat()\n",
    "print(f\"Name is currently {cat.getName()}\")\n",
    "cat.setName(\"Garfield\")\n",
    "print(f\"My current age {cat.getAge()}\")\n",
    "print(f\"Name has been changed to {cat.getName()}\")\n",
    "data = Data(\"database\")\n",
    "data.insert(\"Cat\", cat)\n",
    "for i in range(20):\n",
    "    cat.speak()\n",
    "for j in range(5):\n",
    "    cat.setName(str(j))\n",
    "print(cat.nameHistory)\n",
    "print(cat.getAverageNameLength())"
   ]
  },
  {
   "cell_type": "markdown",
   "id": "4416d475-190b-45ab-9c25-4fed26265009",
   "metadata": {},
   "source": [
    "## Part 3"
   ]
  },
  {
   "cell_type": "code",
   "execution_count": 6,
   "id": "6aa350f8-57b2-4a77-b047-5e2975ade238",
   "metadata": {},
   "outputs": [],
   "source": [
    "\n",
    "class Dog:\n",
    "    def __init__(self, name=None):\n",
    "        self.name = name\n",
    "        self.age = random.randint(5, 10)\n",
    "        self.favoriteFood = None\n",
    "        self.nameHistory = []\n",
    "\n",
    "    def getName(self):\n",
    "        return self.name\n",
    "\n",
    "    def getAge(self):\n",
    "        return self.age\n",
    "\n",
    "    def getFavoriteFood(self):\n",
    "        return self.favoriteFood\n",
    "\n",
    "    def setName(self, newName):\n",
    "        self.nameHistory.append(newName)\n",
    "        self.name = newName\n",
    "\n",
    "    def setAge(self, newAge):\n",
    "        self.age = newAge\n",
    "\n",
    "    def setFavoriteFood(self, newFavoriteFood):\n",
    "        self.favoriteFood = newFavoriteFood\n",
    "\n",
    "    def speak(self, message=\"Brake\"):\n",
    "        print(message)\n",
    "        self.age += 1\n",
    "        if self.age % 5 == 0:\n",
    "            print(\"Happy birthday! I am now\", self.age, \"years old.\")\n",
    "\n",
    "    def getNames(self):\n",
    "        return self.nameHistory\n",
    "\n",
    "    def getAverageNameLength(self):\n",
    "        nameLengths = [len(name) for name in self.nameHistory]\n",
    "        if len(nameLengths) > 0:\n",
    "            return sum(nameLengths) / len(nameLengths)\n",
    "        else:\n",
    "            return 0\n",
    "\n"
   ]
  },
  {
   "cell_type": "code",
   "execution_count": 7,
   "id": "9228b57a-68b7-4ad5-9019-12f15ca8e2eb",
   "metadata": {},
   "outputs": [],
   "source": [
    "def saveTest():\n",
    "    cat = Cat(\"Kitty\")\n",
    "    dog = Dog(\"Bob\")\n",
    "    catShop = Data(\"database\")\n",
    "    dogShop = Data(\"database\")\n",
    "    catShop.insert(\"Cat\", cat)\n",
    "    dogShop.insert(\"Dog\", dog)"
   ]
  },
  {
   "cell_type": "code",
   "execution_count": 26,
   "id": "79c38570-4b89-426f-a9e4-9475d2c55025",
   "metadata": {},
   "outputs": [],
   "source": [
    "def savePetShop():\n",
    "    cats = []\n",
    "    for i in range(0, 3):\n",
    "        cats.append(Cat())\n",
    " \n",
    "    dogs = []\n",
    "    for i in range(0, 3):\n",
    "        dogs.append(Dog())\n",
    "   \n",
    "    petShop = Data(\"database\")\n",
    "    catCount = 0\n",
    "    dogCount = 0\n",
    "\n",
    "    petShop.beginTran()    \n",
    "    try:\n",
    "        for cat in cats:\n",
    "            petShop.insert(\"Cat\", cat)\n",
    "            catCount +=1\n",
    "        for dog in dogs:\n",
    "            petShop.insert(\"Dog\", dog)\n",
    "            dogCount +=1\n",
    "        petShop.commit()\n",
    "    except:\n",
    "        petShop.rollback()\n",
    "    return petShop, catCount, dogCount"
   ]
  },
  {
   "cell_type": "code",
   "execution_count": 29,
   "id": "1a798873-ee85-4af3-b898-fb597d6c1417",
   "metadata": {},
   "outputs": [
    {
     "name": "stdout",
     "output_type": "stream",
     "text": [
      "Connecting to database\n",
      "Beginning a transaction\n",
      "Inserting  None  into table Cat\n",
      "Inserting  None  into table Cat\n",
      "Inserting  None  into table Cat\n",
      "Inserting  None  into table Dog\n",
      "Inserting  None  into table Dog\n",
      "Inserting  None  into table Dog\n",
      "Committing transaction\n"
     ]
    }
   ],
   "source": [
    "\n",
    "petShop, catCount, dogCount = savePetShop()"
   ]
  },
  {
   "cell_type": "code",
   "execution_count": 30,
   "id": "10311e55-bdc5-4baa-9c2d-08cb6e0f5c4e",
   "metadata": {},
   "outputs": [
    {
     "data": {
      "text/plain": [
       "[<__main__.Cat at 0x28d07d158b0>,\n",
       " <__main__.Cat at 0x28d08e69940>,\n",
       " <__main__.Cat at 0x28d07d22a00>,\n",
       " <__main__.Dog at 0x28d07d22c70>,\n",
       " <__main__.Dog at 0x28d07d22820>,\n",
       " <__main__.Dog at 0x28d07d229a0>]"
      ]
     },
     "execution_count": 30,
     "metadata": {},
     "output_type": "execute_result"
    }
   ],
   "source": [
    "petShop.pets"
   ]
  },
  {
   "cell_type": "code",
   "execution_count": 35,
   "id": "d5645a7f-dff7-4efb-bfb8-3d7614f210c1",
   "metadata": {},
   "outputs": [],
   "source": [
    "def logStats():\n",
    "    print(f\"Number of pets: {len(petShop.pets)}\")\n",
    "    print(f\"Number of dogs: {dogCount}\")\n",
    "    print(f\"Number of cats: {catCount}\")\n",
    "    \n",
    "    \n",
    "    \n",
    "    "
   ]
  },
  {
   "cell_type": "code",
   "execution_count": null,
   "id": "a3902ccf-07d0-4f13-9118-cf73052bf613",
   "metadata": {},
   "outputs": [],
   "source": []
  },
  {
   "cell_type": "code",
   "execution_count": 36,
   "id": "039135c2-bc2a-4276-b3e8-beac926f4905",
   "metadata": {},
   "outputs": [
    {
     "name": "stdout",
     "output_type": "stream",
     "text": [
      "Connecting to database\n",
      "Connecting to database\n",
      "Inserting  Kitty  into table Cat\n",
      "Inserting  Bob  into table Dog\n",
      "Connecting to database\n",
      "Beginning a transaction\n",
      "Inserting  None  into table Cat\n",
      "Inserting  None  into table Cat\n",
      "Inserting  None  into table Cat\n",
      "Inserting  None  into table Dog\n",
      "Inserting  None  into table Dog\n",
      "Inserting  None  into table Dog\n",
      "Committing transaction\n",
      "Number of pets: 6\n",
      "Number of dogs: 3\n",
      "Number of cats: 3\n"
     ]
    }
   ],
   "source": [
    "saveTest()\n",
    "petShop, catCount, dogCount = savePetShop()\n",
    "logStats()"
   ]
  },
  {
   "cell_type": "code",
   "execution_count": null,
   "id": "b609d687-b498-4067-94b2-ead3584f8d80",
   "metadata": {},
   "outputs": [],
   "source": []
  },
  {
   "cell_type": "code",
   "execution_count": null,
   "id": "46e33c3d-d9d1-482a-b743-1ba974c20d24",
   "metadata": {},
   "outputs": [],
   "source": []
  }
 ],
 "metadata": {
  "kernelspec": {
   "display_name": "Python 3 (ipykernel)",
   "language": "python",
   "name": "python3"
  },
  "language_info": {
   "codemirror_mode": {
    "name": "ipython",
    "version": 3
   },
   "file_extension": ".py",
   "mimetype": "text/x-python",
   "name": "python",
   "nbconvert_exporter": "python",
   "pygments_lexer": "ipython3",
   "version": "3.9.18"
  }
 },
 "nbformat": 4,
 "nbformat_minor": 5
}
